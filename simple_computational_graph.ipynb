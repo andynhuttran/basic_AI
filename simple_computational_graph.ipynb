{
 "cells": [
  {
   "cell_type": "markdown",
   "metadata": {},
   "source": [
    "we assume that the price of house is defined by function y = X*a + b\n",
    "\n",
    "using computational graph and deravative to find out a and b base on given X, y"
   ]
  },
  {
   "cell_type": "code",
   "execution_count": 206,
   "metadata": {},
   "outputs": [],
   "source": [
    "area = [6.7, 4.6, 3.5, 5.5] #area of house\n",
    "price = [9.1, 5.9, 4.6, 6.7] #price"
   ]
  },
  {
   "cell_type": "code",
   "execution_count": 207,
   "metadata": {},
   "outputs": [],
   "source": [
    "#price y = X*a + b\n",
    "def calculate_price(X, a, b):\n",
    "    return X*a + b"
   ]
  },
  {
   "cell_type": "code",
   "execution_count": 208,
   "metadata": {},
   "outputs": [],
   "source": [
    "#init random values for a and b\n",
    "a = -0.34\n",
    "b = 0.04"
   ]
  },
  {
   "cell_type": "code",
   "execution_count": 209,
   "metadata": {},
   "outputs": [],
   "source": [
    "#we are going to calculate loss value base on this function\n",
    "def loss_func(o, y):\n",
    "    return (o-y)**2"
   ]
  },
  {
   "cell_type": "code",
   "execution_count": 210,
   "metadata": {},
   "outputs": [
    {
     "name": "stdout",
     "output_type": "stream",
     "text": [
      "128.550244\n"
     ]
    }
   ],
   "source": [
    "#loss value if a and b are initial values\n",
    "o = calculate_price(area[0], a, b)\n",
    "loss = loss_func(o, price[0])\n",
    "print(loss)"
   ]
  },
  {
   "cell_type": "markdown",
   "metadata": {},
   "source": [
    "Loss is 128.550244, it is too big so far."
   ]
  },
  {
   "cell_type": "code",
   "execution_count": 211,
   "metadata": {},
   "outputs": [],
   "source": [
    "#define deravative functions\n",
    "def derivative_base_on_a(X, o, y):\n",
    "    return 2*X*(o-y)\n",
    "\n",
    "def derivative_base_on_b(o, y):\n",
    "    return 2*(o-y)"
   ]
  },
  {
   "cell_type": "code",
   "execution_count": 212,
   "metadata": {},
   "outputs": [
    {
     "name": "stdout",
     "output_type": "stream",
     "text": [
      "-151.92919999999998\n",
      "-22.676\n"
     ]
    }
   ],
   "source": [
    "da = derivative_base_on_a(area[0], o, price[0])\n",
    "print(da)\n",
    "\n",
    "db = derivative_base_on_b(o, price[0])\n",
    "print(db)"
   ]
  },
  {
   "cell_type": "code",
   "execution_count": 213,
   "metadata": {},
   "outputs": [],
   "source": [
    "def get_learing_rate(dx, lr=0.01):\n",
    "    return (-dx*lr)"
   ]
  },
  {
   "cell_type": "code",
   "execution_count": 214,
   "metadata": {},
   "outputs": [
    {
     "name": "stdout",
     "output_type": "stream",
     "text": [
      "a: 1.1792919999999998\n",
      "b: 0.26676\n"
     ]
    }
   ],
   "source": [
    "a += get_learing_rate(da)\n",
    "b += get_learing_rate(db)\n",
    "print('a: ' + str(a))\n",
    "print('b: ' + str(b))"
   ]
  },
  {
   "cell_type": "code",
   "execution_count": 215,
   "metadata": {},
   "outputs": [
    {
     "name": "stdout",
     "output_type": "stream",
     "text": [
      "0.8685934306689611\n"
     ]
    }
   ],
   "source": [
    "o = calculate_price(area[0], a, b)\n",
    "loss = loss_func(o, price[0])\n",
    "print(loss)"
   ]
  },
  {
   "cell_type": "markdown",
   "metadata": {},
   "source": [
    "Loss is 0.869 it is better previous 128.550244"
   ]
  },
  {
   "cell_type": "code",
   "execution_count": 216,
   "metadata": {},
   "outputs": [],
   "source": [
    "a = -0.34\n",
    "b = 0.04\n",
    "learning_rate = 0.01\n",
    "#we keep on with other values area and prive\n",
    "loss_list = []\n",
    "for i in range(8):\n",
    "    for j in range(len(area)):\n",
    "        o = calculate_price(area[j], a, b)\n",
    "        loss = loss_func(o, price[j])\n",
    "        loss_list.append(loss)\n",
    "    \n",
    "        da = derivative_base_on_a(area[j], o, price[j])\n",
    "        db = derivative_base_on_b(o, price[j])\n",
    "        \n",
    "        a += get_learing_rate(da)\n",
    "        b += get_learing_rate(db)"
   ]
  },
  {
   "cell_type": "code",
   "execution_count": 217,
   "metadata": {},
   "outputs": [
    {
     "data": {
      "image/png": "[encoded data removed]",
      "text/plain": [
       "<Figure size 432x288 with 1 Axes>"
      ]
     },
     "metadata": {
      "needs_background": "light"
     },
     "output_type": "display_data"
    }
   ],
   "source": [
    "import matplotlib.pyplot as plt\n",
    "\n",
    "l = len(loss_list)\n",
    "x = list(range(l))\n",
    "      \n",
    "plt.plot(x[1:], loss_list[1:])\n",
    "plt.show()"
   ]
  },
  {
   "cell_type": "code",
   "execution_count": 220,
   "metadata": {},
   "outputs": [
    {
     "name": "stdout",
     "output_type": "stream",
     "text": [
      "best index: 8\n",
      "min loss: 0.10800472065504878\n",
      "best a: 1.2408670640408037\n",
      "best b: 0.30802388613972226\n"
     ]
    },
    {
     "data": {
      "image/png": "[encoded data removed]",
      "text/plain": [
       "<Figure size 432x288 with 1 Axes>"
      ]
     },
     "metadata": {
      "needs_background": "light"
     },
     "output_type": "display_data"
    }
   ],
   "source": [
    "import numpy\n",
    "import math\n",
    "import random\n",
    "\n",
    "#init random values\n",
    "a = random.random()\n",
    "b = random.random()\n",
    "\n",
    "learning_rate = 0.01\n",
    "#we keep on with other values area and prive\n",
    "loss_list = []\n",
    "a_list = []\n",
    "b_list = []\n",
    "\n",
    "area = numpy.array(area)\n",
    "price = numpy.array(price)\n",
    "\n",
    "for i in range(30):\n",
    "    \n",
    "    a_list.append(a)\n",
    "    b_list.append(b)\n",
    "    \n",
    "    #try to predict price of house base on init values a and b\n",
    "    o = calculate_price(area, a, b)\n",
    "    \n",
    "    #calculate loss value\n",
    "    loss = loss_func(o, price)\n",
    "    loss = sum(loss)/len(loss)\n",
    "    loss_list.append(loss)\n",
    "\n",
    "    #use derivative to update a, b\n",
    "    da = derivative_base_on_a(area, o, price)\n",
    "    db = derivative_base_on_b(o, price[j])\n",
    "    \n",
    "    da = sum(da)/len(da) #mean\n",
    "    db = sum(db)/len(db) #mean\n",
    "    \n",
    "    #update a and b, for next loop\n",
    "    a += (-da)*learning_rate\n",
    "    b += (-db)*learning_rate\n",
    "\n",
    "#print(loss_list)\n",
    "\n",
    "idx = loss_list.index(min(loss_list))\n",
    "print('best index: ' + str(idx))\n",
    "print('min loss: ' + str(loss_list[idx]))\n",
    "print('best a: ' + str(a_list[idx]))\n",
    "print('best b: ' + str(b_list[idx]))\n",
    "\n",
    "l = len(loss_list)\n",
    "x = list(range(l))\n",
    "plt.plot(x[1:], loss_list[1:])\n",
    "plt.show()"
   ]
  },
  {
   "cell_type": "code",
   "execution_count": 221,
   "metadata": {},
   "outputs": [
    {
     "name": "stdout",
     "output_type": "stream",
     "text": [
      "The final result is y=X*1.2408670640408037 + 0.30802388613972226\n"
     ]
    },
    {
     "data": {
      "image/png": "[encoded data removed]",
      "text/plain": [
       "<Figure size 432x288 with 1 Axes>"
      ]
     },
     "metadata": {
      "needs_background": "light"
     },
     "output_type": "display_data"
    }
   ],
   "source": [
    "#draw best result \n",
    "print('The final result is y=X*{} + {}'.format(a_list[idx], b_list[idx]))\n",
    "\n",
    "plt.scatter(area, price)\n",
    "y = calculate_price(area, a_list[idx], b_list[idx])\n",
    "plt.plot(area, y, c='r')\n",
    "\n",
    "plt.show()"
   ]
  },
  {
   "cell_type": "code",
   "execution_count": null,
   "metadata": {},
   "outputs": [],
   "source": []
  },
  {
   "cell_type": "code",
   "execution_count": null,
   "metadata": {},
   "outputs": [],
   "source": []
  }
 ],
 "metadata": {
  "kernelspec": {
   "display_name": "Python 3",
   "language": "python",
   "name": "python3"
  },
  "language_info": {
   "codemirror_mode": {
    "name": "ipython",
    "version": 3
   },
   "file_extension": ".py",
   "mimetype": "text/x-python",
   "name": "python",
   "nbconvert_exporter": "python",
   "pygments_lexer": "ipython3",
   "version": "3.6.7"
  }
 },
 "nbformat": 4,
 "nbformat_minor": 2
}
